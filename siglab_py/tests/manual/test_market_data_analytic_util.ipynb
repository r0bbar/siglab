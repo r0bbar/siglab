{
 "cells": [
  {
   "cell_type": "code",
   "execution_count": null,
   "metadata": {},
   "outputs": [
    {
     "ename": "ModuleNotFoundError",
     "evalue": "No module named 'market_data_util'",
     "output_type": "error",
     "traceback": [
      "\u001b[1;31m---------------------------------------------------------------------------\u001b[0m",
      "\u001b[1;31mModuleNotFoundError\u001b[0m                       Traceback (most recent call last)",
      "Cell \u001b[1;32mIn[1], line 10\u001b[0m\n\u001b[0;32m      6\u001b[0m \u001b[38;5;28;01mimport\u001b[39;00m \u001b[38;5;21;01mmatplotlib\u001b[39;00m\u001b[38;5;21;01m.\u001b[39;00m\u001b[38;5;21;01mdates\u001b[39;00m \u001b[38;5;28;01mas\u001b[39;00m \u001b[38;5;21;01mmdates\u001b[39;00m\n\u001b[0;32m      8\u001b[0m \u001b[38;5;28;01mfrom\u001b[39;00m \u001b[38;5;21;01mccxt\u001b[39;00m\u001b[38;5;21;01m.\u001b[39;00m\u001b[38;5;21;01mokx\u001b[39;00m \u001b[38;5;28;01mimport\u001b[39;00m okx\n\u001b[1;32m---> 10\u001b[0m \u001b[38;5;28;01mfrom\u001b[39;00m \u001b[38;5;21;01mmarket_data_util\u001b[39;00m \u001b[38;5;28;01mimport\u001b[39;00m fetch_candles\n\u001b[0;32m     11\u001b[0m \u001b[38;5;28;01mfrom\u001b[39;00m \u001b[38;5;21;01manalytic_util\u001b[39;00m \u001b[38;5;28;01mimport\u001b[39;00m compute_candles_stats\n",
      "\u001b[1;31mModuleNotFoundError\u001b[0m: No module named 'market_data_util'"
     ]
    }
   ],
   "source": [
    "from datetime import datetime\n",
    "from typing import Dict, Union\n",
    "\n",
    "import pandas as pd\n",
    "import matplotlib.pyplot as plt\n",
    "import matplotlib.dates as mdates\n",
    "\n",
    "from ccxt.okx import okx\n",
    "\n",
    "from siglab_py.util.market_data_util import fetch_candles\n",
    "from siglab_py.util.analytic_util import compute_candles_stats"
   ]
  },
  {
   "cell_type": "markdown",
   "metadata": {},
   "source": [
    "### Basic Parameters"
   ]
  },
  {
   "cell_type": "code",
   "execution_count": null,
   "metadata": {},
   "outputs": [],
   "source": [
    "# csv file produced by https://github.com/r0bbar/siglab/blob/master/siglab_py/market_data_providers/ccxt_candles_ta_to_csv.py\n",
    "base_ccy : str = \"BTC\"\n",
    "ticker = f\"{base_ccy}/USDT:USDT\"\n",
    "candles_with_ta_file : str = f\"{base_ccy}_candles_ta.csv\"\n",
    "pd_candles = pd.read_csv(candles_with_ta_file)"
   ]
  },
  {
   "cell_type": "markdown",
   "metadata": {},
   "source": [
    "### Check a particular field"
   ]
  },
  {
   "cell_type": "code",
   "execution_count": null,
   "metadata": {},
   "outputs": [
    {
     "data": {
      "application/vnd.microsoft.datawrangler.viewer.v0+json": {
       "columns": [
        {
         "name": "index",
         "rawType": "int64",
         "type": "integer"
        },
        {
         "name": "datetime",
         "rawType": "object",
         "type": "string"
        },
        {
         "name": "normalized_close_short_slope",
         "rawType": "float64",
         "type": "float"
        },
        {
         "name": "normalized_close_short_slope_idmin",
         "rawType": "float64",
         "type": "float"
        },
        {
         "name": "normalized_close_short_slope_idmax",
         "rawType": "float64",
         "type": "float"
        }
       ],
       "conversionMethod": "pd.DataFrame",
       "ref": "a4e40e98-3c86-4b8e-a90e-2a54348dfd14",
       "rows": [
        [
         "11160",
         "2025-04-10 00:00:00",
         "0.1299029056832903",
         "11147.0",
         "11160.0"
        ],
        [
         "11161",
         "2025-04-10 01:00:00",
         "0.4102137194956838",
         "11147.0",
         "11161.0"
        ],
        [
         "11162",
         "2025-04-10 02:00:00",
         "0.6465106161843805",
         "11147.0",
         "11162.0"
        ],
        [
         "11163",
         "2025-04-10 03:00:00",
         "0.8694560256795132",
         "11147.0",
         "11163.0"
        ],
        [
         "11164",
         "2025-04-10 04:00:00",
         "1.0",
         "11147.0",
         "11164.0"
        ],
        [
         "11165",
         "2025-04-10 05:00:00",
         "1.0",
         "11147.0",
         "11164.0"
        ],
        [
         "11166",
         "2025-04-10 06:00:00",
         "1.0",
         "11147.0",
         "11164.0"
        ],
        [
         "11167",
         "2025-04-10 07:00:00",
         "1.0",
         "11147.0",
         "11164.0"
        ],
        [
         "11168",
         "2025-04-10 08:00:00",
         "1.0",
         "11147.0",
         "11164.0"
        ],
        [
         "11169",
         "2025-04-10 09:00:00",
         "1.0",
         "11147.0",
         "11164.0"
        ],
        [
         "11170",
         "2025-04-10 10:00:00",
         "0.9871704102595688",
         "11147.0",
         "11164.0"
        ],
        [
         "11171",
         "2025-04-10 11:00:00",
         "0.9292518818499916",
         "11148.0",
         "11164.0"
        ],
        [
         "11172",
         "2025-04-10 12:00:00",
         "0.902113758954158",
         "11149.0",
         "11164.0"
        ],
        [
         "11173",
         "2025-04-10 13:00:00",
         "0.8749116192427638",
         "11150.0",
         "11164.0"
        ],
        [
         "11174",
         "2025-04-10 14:00:00",
         "0.8371636330603796",
         "11151.0",
         "11164.0"
        ],
        [
         "11175",
         "2025-04-10 15:00:00",
         "0.7969901606035263",
         "11152.0",
         "11164.0"
        ],
        [
         "11176",
         "2025-04-10 16:00:00",
         "0.7353962086547609",
         "11153.0",
         "11164.0"
        ],
        [
         "11177",
         "2025-04-10 17:00:00",
         "0.6812173590238261",
         "11154.0",
         "11164.0"
        ],
        [
         "11178",
         "2025-04-10 18:00:00",
         "0.600719610997109",
         "11155.0",
         "11164.0"
        ],
        [
         "11179",
         "2025-04-10 19:00:00",
         "0.484149043067817",
         "11156.0",
         "11164.0"
        ],
        [
         "11180",
         "2025-04-10 20:00:00",
         "0.3652607564641764",
         "11157.0",
         "11164.0"
        ],
        [
         "11181",
         "2025-04-10 21:00:00",
         "0.2396207820279843",
         "11158.0",
         "11164.0"
        ],
        [
         "11182",
         "2025-04-10 22:00:00",
         "0.0931302804186819",
         "11159.0",
         "11164.0"
        ],
        [
         "11183",
         "2025-04-10 23:00:00",
         "-0.1213273630400829",
         "11183.0",
         "11164.0"
        ],
        [
         "11184",
         "2025-04-11 00:00:00",
         "-0.2909883755238358",
         "11184.0",
         "11164.0"
        ],
        [
         "11185",
         "2025-04-11 01:00:00",
         "-0.3502362363548568",
         "11185.0",
         "11164.0"
        ],
        [
         "11186",
         "2025-04-11 02:00:00",
         "-0.4096467022816384",
         "11186.0",
         "11164.0"
        ],
        [
         "11187",
         "2025-04-11 03:00:00",
         "-0.4435181543701756",
         "11187.0",
         "11164.0"
        ],
        [
         "11188",
         "2025-04-11 04:00:00",
         "-0.437226624653204",
         "11187.0",
         "11165.0"
        ],
        [
         "11189",
         "2025-04-11 05:00:00",
         "-0.4264510567602714",
         "11187.0",
         "11166.0"
        ],
        [
         "11190",
         "2025-04-11 06:00:00",
         "-0.4139650358512086",
         "11187.0",
         "11167.0"
        ],
        [
         "11191",
         "2025-04-11 07:00:00",
         "-0.4089369143489642",
         "11187.0",
         "11168.0"
        ],
        [
         "11192",
         "2025-04-11 08:00:00",
         "-0.4201876610627967",
         "11187.0",
         "11169.0"
        ],
        [
         "11193",
         "2025-04-11 09:00:00",
         "-0.3930000249975898",
         "11187.0",
         "11170.0"
        ],
        [
         "11194",
         "2025-04-11 10:00:00",
         "-0.3847491890910031",
         "11187.0",
         "11171.0"
        ],
        [
         "11195",
         "2025-04-11 11:00:00",
         "-0.3546343416617054",
         "11187.0",
         "11172.0"
        ],
        [
         "11196",
         "2025-04-11 12:00:00",
         "-0.3107368219680656",
         "11187.0",
         "11173.0"
        ],
        [
         "11197",
         "2025-04-11 13:00:00",
         "-0.2612861465912173",
         "11187.0",
         "11174.0"
        ],
        [
         "11198",
         "2025-04-11 14:00:00",
         "-0.194695705878814",
         "11187.0",
         "11175.0"
        ],
        [
         "11199",
         "2025-04-11 15:00:00",
         "-0.1373959625620086",
         "11187.0",
         "11176.0"
        ],
        [
         "11200",
         "2025-04-11 16:00:00",
         "-0.0541767042831591",
         "11187.0",
         "11177.0"
        ],
        [
         "11201",
         "2025-04-11 17:00:00",
         "0.1048796717025573",
         "11187.0",
         "11178.0"
        ],
        [
         "11202",
         "2025-04-11 18:00:00",
         "0.3333885708967136",
         "11187.0",
         "11179.0"
        ],
        [
         "11203",
         "2025-04-11 19:00:00",
         "0.5542453977605037",
         "11187.0",
         "11203.0"
        ],
        [
         "11204",
         "2025-04-11 20:00:00",
         "0.7306046607140955",
         "11187.0",
         "11204.0"
        ],
        [
         "11205",
         "2025-04-11 21:00:00",
         "0.897928377383488",
         "11187.0",
         "11205.0"
        ],
        [
         "11206",
         "2025-04-11 22:00:00",
         "1.0",
         "11187.0",
         "11206.0"
        ],
        [
         "11207",
         "2025-04-11 23:00:00",
         "0.9869628517902954",
         "11187.0",
         "11206.0"
        ],
        [
         "11208",
         "2025-04-12 00:00:00",
         "1.0",
         "11187.0",
         "11206.0"
        ],
        [
         "11209",
         "2025-04-12 01:00:00",
         "1.0",
         "11187.0",
         "11206.0"
        ]
       ],
       "shape": {
        "columns": 4,
        "rows": 296
       }
      },
      "text/html": [
       "<div>\n",
       "<style scoped>\n",
       "    .dataframe tbody tr th:only-of-type {\n",
       "        vertical-align: middle;\n",
       "    }\n",
       "\n",
       "    .dataframe tbody tr th {\n",
       "        vertical-align: top;\n",
       "    }\n",
       "\n",
       "    .dataframe thead th {\n",
       "        text-align: right;\n",
       "    }\n",
       "</style>\n",
       "<table border=\"1\" class=\"dataframe\">\n",
       "  <thead>\n",
       "    <tr style=\"text-align: right;\">\n",
       "      <th></th>\n",
       "      <th>datetime</th>\n",
       "      <th>normalized_close_short_slope</th>\n",
       "      <th>normalized_close_short_slope_idmin</th>\n",
       "      <th>normalized_close_short_slope_idmax</th>\n",
       "    </tr>\n",
       "  </thead>\n",
       "  <tbody>\n",
       "    <tr>\n",
       "      <th>11160</th>\n",
       "      <td>2025-04-10 00:00:00</td>\n",
       "      <td>0.129903</td>\n",
       "      <td>11147.0</td>\n",
       "      <td>11160.0</td>\n",
       "    </tr>\n",
       "    <tr>\n",
       "      <th>11161</th>\n",
       "      <td>2025-04-10 01:00:00</td>\n",
       "      <td>0.410214</td>\n",
       "      <td>11147.0</td>\n",
       "      <td>11161.0</td>\n",
       "    </tr>\n",
       "    <tr>\n",
       "      <th>11162</th>\n",
       "      <td>2025-04-10 02:00:00</td>\n",
       "      <td>0.646511</td>\n",
       "      <td>11147.0</td>\n",
       "      <td>11162.0</td>\n",
       "    </tr>\n",
       "    <tr>\n",
       "      <th>11163</th>\n",
       "      <td>2025-04-10 03:00:00</td>\n",
       "      <td>0.869456</td>\n",
       "      <td>11147.0</td>\n",
       "      <td>11163.0</td>\n",
       "    </tr>\n",
       "    <tr>\n",
       "      <th>11164</th>\n",
       "      <td>2025-04-10 04:00:00</td>\n",
       "      <td>1.000000</td>\n",
       "      <td>11147.0</td>\n",
       "      <td>11164.0</td>\n",
       "    </tr>\n",
       "    <tr>\n",
       "      <th>...</th>\n",
       "      <td>...</td>\n",
       "      <td>...</td>\n",
       "      <td>...</td>\n",
       "      <td>...</td>\n",
       "    </tr>\n",
       "    <tr>\n",
       "      <th>11451</th>\n",
       "      <td>2025-04-22 03:00:00</td>\n",
       "      <td>0.434111</td>\n",
       "      <td>11428.0</td>\n",
       "      <td>11434.0</td>\n",
       "    </tr>\n",
       "    <tr>\n",
       "      <th>11452</th>\n",
       "      <td>2025-04-22 04:00:00</td>\n",
       "      <td>0.352449</td>\n",
       "      <td>11429.0</td>\n",
       "      <td>11434.0</td>\n",
       "    </tr>\n",
       "    <tr>\n",
       "      <th>11453</th>\n",
       "      <td>2025-04-22 05:00:00</td>\n",
       "      <td>0.247154</td>\n",
       "      <td>11430.0</td>\n",
       "      <td>11434.0</td>\n",
       "    </tr>\n",
       "    <tr>\n",
       "      <th>11454</th>\n",
       "      <td>2025-04-22 06:00:00</td>\n",
       "      <td>0.115762</td>\n",
       "      <td>11431.0</td>\n",
       "      <td>11434.0</td>\n",
       "    </tr>\n",
       "    <tr>\n",
       "      <th>11455</th>\n",
       "      <td>2025-04-22 07:00:00</td>\n",
       "      <td>0.001562</td>\n",
       "      <td>11455.0</td>\n",
       "      <td>11434.0</td>\n",
       "    </tr>\n",
       "  </tbody>\n",
       "</table>\n",
       "<p>296 rows × 4 columns</p>\n",
       "</div>"
      ],
      "text/plain": [
       "                  datetime  normalized_close_short_slope  \\\n",
       "11160  2025-04-10 00:00:00                      0.129903   \n",
       "11161  2025-04-10 01:00:00                      0.410214   \n",
       "11162  2025-04-10 02:00:00                      0.646511   \n",
       "11163  2025-04-10 03:00:00                      0.869456   \n",
       "11164  2025-04-10 04:00:00                      1.000000   \n",
       "...                    ...                           ...   \n",
       "11451  2025-04-22 03:00:00                      0.434111   \n",
       "11452  2025-04-22 04:00:00                      0.352449   \n",
       "11453  2025-04-22 05:00:00                      0.247154   \n",
       "11454  2025-04-22 06:00:00                      0.115762   \n",
       "11455  2025-04-22 07:00:00                      0.001562   \n",
       "\n",
       "       normalized_close_short_slope_idmin  normalized_close_short_slope_idmax  \n",
       "11160                             11147.0                             11160.0  \n",
       "11161                             11147.0                             11161.0  \n",
       "11162                             11147.0                             11162.0  \n",
       "11163                             11147.0                             11163.0  \n",
       "11164                             11147.0                             11164.0  \n",
       "...                                   ...                                 ...  \n",
       "11451                             11428.0                             11434.0  \n",
       "11452                             11429.0                             11434.0  \n",
       "11453                             11430.0                             11434.0  \n",
       "11454                             11431.0                             11434.0  \n",
       "11455                             11455.0                             11434.0  \n",
       "\n",
       "[296 rows x 4 columns]"
      ]
     },
     "execution_count": 4,
     "metadata": {},
     "output_type": "execute_result"
    }
   ],
   "source": [
    "pd_candles_ = pd_candles[\n",
    "                (~pd_candles['normalized_close_short_slope'].isna() ) \n",
    "                & (pd_candles.timestamp_ms>=datetime(2025,4,10).timestamp()*1000)\n",
    "            ]\n",
    "pd_candles_ = pd_candles_[['datetime', 'normalized_close_short_slope', 'normalized_close_short_slope_idmin', 'normalized_close_short_slope_idmax']]\n",
    "pd_candles_['datetime'] = pd.to_datetime(pd_candles_['datetime'])\n",
    "pd_candles_"
   ]
  },
  {
   "cell_type": "code",
   "execution_count": null,
   "metadata": {},
   "outputs": [
    {
     "data": {
      "image/png": "[encoded data removed]",
      "text/plain": [
       "<Figure size 3000x1500 with 1 Axes>"
      ]
     },
     "metadata": {},
     "output_type": "display_data"
    }
   ],
   "source": [
    "plt.figure(figsize=(30, 15))\n",
    "plt.scatter(\n",
    "    x=pd_candles_['datetime'], \n",
    "    y=pd_candles_['normalized_close_short_slope'],\n",
    "    s=10,\n",
    "    alpha=0.5,\n",
    "    color='blue'\n",
    ")\n",
    "\n",
    "ax = plt.gca()\n",
    "ax.xaxis.set_major_locator(mdates.MonthLocator(bymonthday=1))\n",
    "ax.xaxis.set_major_formatter(mdates.DateFormatter('%Y-%m-%d'))\n",
    "\n",
    "plt.gcf().autofmt_xdate()\n",
    "plt.xlabel('Datetime')\n",
    "plt.ylabel('Normalized Close Slope')\n",
    "plt.title('Scatter Plot: Normalized Slope Over Time')\n",
    "plt.grid(True)\n",
    "plt.show()"
   ]
  }
 ],
 "metadata": {
  "kernelspec": {
   "display_name": "Python 3",
   "language": "python",
   "name": "python3"
  },
  "language_info": {
   "codemirror_mode": {
    "name": "ipython",
    "version": 3
   },
   "file_extension": ".py",
   "mimetype": "text/x-python",
   "name": "python",
   "nbconvert_exporter": "python",
   "pygments_lexer": "ipython3",
   "version": "3.9.19"
  }
 },
 "nbformat": 4,
 "nbformat_minor": 2
}
